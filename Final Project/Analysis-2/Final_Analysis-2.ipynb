{
 "cells": [
  {
   "cell_type": "code",
   "execution_count": 47,
   "metadata": {
    "collapsed": true
   },
   "outputs": [],
   "source": [
    "import csv\n",
    "import numpy as np\n",
    "from datetime import datetime\n",
    "import pandas as pd\n",
    "from io import StringIO\n",
    "import matplotlib.pyplot as plt"
   ]
  },
  {
   "cell_type": "code",
   "execution_count": 48,
   "metadata": {
    "collapsed": true
   },
   "outputs": [],
   "source": [
    "file = pd.read_csv('C:\\\\Users\\\\Pratik\\\\Desktop\\\\Python Data\\\\Data for Final Project\\\\Crime_Report_Boston.csv', low_memory=False)"
   ]
  },
  {
   "cell_type": "code",
   "execution_count": 49,
   "metadata": {
    "collapsed": true
   },
   "outputs": [],
   "source": [
    "df = file[['COMPNOS','INCIDENT_TYPE_DESCRIPTION']]\n",
    "df1 = df.groupby('INCIDENT_TYPE_DESCRIPTION').apply(lambda x: x.COMPNOS.nunique())\n",
    "df2 = pd.DataFrame({'INCIDENT_TYPE_DESCRIPTION': df1.index, 'Values' : df1.values})"
   ]
  },
  {
   "cell_type": "code",
   "execution_count": 50,
   "metadata": {
    "collapsed": true
   },
   "outputs": [],
   "source": [
    "df3 = file['INCIDENT_TYPE_DESCRIPTION'].value_counts()"
   ]
  },
  {
   "cell_type": "code",
   "execution_count": 51,
   "metadata": {
    "collapsed": false
   },
   "outputs": [
    {
     "data": {
      "text/plain": [
       "<Container object of 15 artists>"
      ]
     },
     "execution_count": 51,
     "metadata": {},
     "output_type": "execute_result"
    }
   ],
   "source": [
    "plt_bar = np.arange(len(df1[0:15].keys()))\n",
    "plt.barh(plt_bar, df3[0:15].get_values(),  align='center',color = 'RED')"
   ]
  },
  {
   "cell_type": "code",
   "execution_count": 52,
   "metadata": {
    "collapsed": false
   },
   "outputs": [
    {
     "data": {
      "text/plain": [
       "([<matplotlib.axis.YTick at 0x145b492c908>,\n",
       "  <matplotlib.axis.YTick at 0x145b491a710>,\n",
       "  <matplotlib.axis.YTick at 0x145b4927978>,\n",
       "  <matplotlib.axis.YTick at 0x145afa11898>,\n",
       "  <matplotlib.axis.YTick at 0x145afa17358>,\n",
       "  <matplotlib.axis.YTick at 0x145afa17d30>,\n",
       "  <matplotlib.axis.YTick at 0x145afa22748>,\n",
       "  <matplotlib.axis.YTick at 0x145afa280f0>,\n",
       "  <matplotlib.axis.YTick at 0x145afa28a90>,\n",
       "  <matplotlib.axis.YTick at 0x145afa2c390>,\n",
       "  <matplotlib.axis.YTick at 0x145afa2cd68>,\n",
       "  <matplotlib.axis.YTick at 0x145afa35780>,\n",
       "  <matplotlib.axis.YTick at 0x145afa3c198>,\n",
       "  <matplotlib.axis.YTick at 0x145afa3cb70>,\n",
       "  <matplotlib.axis.YTick at 0x145afa40588>],\n",
       " <a list of 15 Text yticklabel objects>)"
      ]
     },
     "execution_count": 52,
     "metadata": {},
     "output_type": "execute_result"
    }
   ],
   "source": [
    "plt.yticks(plt_bar, map(lambda x : x.title(),df1[0:15].keys()))"
   ]
  },
  {
   "cell_type": "code",
   "execution_count": 53,
   "metadata": {
    "collapsed": false
   },
   "outputs": [
    {
     "data": {
      "text/html": [
       "<div>\n",
       "<table border=\"1\" class=\"dataframe\">\n",
       "  <thead>\n",
       "    <tr style=\"text-align: right;\">\n",
       "      <th></th>\n",
       "      <th>INCIDENT_TYPE_DESCRIPTION</th>\n",
       "      <th>Values</th>\n",
       "    </tr>\n",
       "  </thead>\n",
       "  <tbody>\n",
       "    <tr>\n",
       "      <th>119</th>\n",
       "      <td>VAL</td>\n",
       "      <td>27363</td>\n",
       "    </tr>\n",
       "    <tr>\n",
       "      <th>77</th>\n",
       "      <td>OTHER LARCENY</td>\n",
       "      <td>24443</td>\n",
       "    </tr>\n",
       "    <tr>\n",
       "      <th>107</th>\n",
       "      <td>SIMPLE ASSAULT</td>\n",
       "      <td>17697</td>\n",
       "    </tr>\n",
       "    <tr>\n",
       "      <th>70</th>\n",
       "      <td>MedAssist</td>\n",
       "      <td>17128</td>\n",
       "    </tr>\n",
       "    <tr>\n",
       "      <th>68</th>\n",
       "      <td>MVAcc</td>\n",
       "      <td>13832</td>\n",
       "    </tr>\n",
       "    <tr>\n",
       "      <th>120</th>\n",
       "      <td>VANDALISM</td>\n",
       "      <td>13339</td>\n",
       "    </tr>\n",
       "    <tr>\n",
       "      <th>53</th>\n",
       "      <td>InvPer</td>\n",
       "      <td>12937</td>\n",
       "    </tr>\n",
       "    <tr>\n",
       "      <th>58</th>\n",
       "      <td>LARCENY FROM MOTOR VEHICLE</td>\n",
       "      <td>12742</td>\n",
       "    </tr>\n",
       "    <tr>\n",
       "      <th>28</th>\n",
       "      <td>DRUG CHARGES</td>\n",
       "      <td>12042</td>\n",
       "    </tr>\n",
       "    <tr>\n",
       "      <th>38</th>\n",
       "      <td>FRAUD</td>\n",
       "      <td>8742</td>\n",
       "    </tr>\n",
       "    <tr>\n",
       "      <th>92</th>\n",
       "      <td>PropLost</td>\n",
       "      <td>8522</td>\n",
       "    </tr>\n",
       "    <tr>\n",
       "      <th>116</th>\n",
       "      <td>TOWED</td>\n",
       "      <td>7526</td>\n",
       "    </tr>\n",
       "    <tr>\n",
       "      <th>98</th>\n",
       "      <td>RESIDENTIAL BURGLARY</td>\n",
       "      <td>6737</td>\n",
       "    </tr>\n",
       "    <tr>\n",
       "      <th>54</th>\n",
       "      <td>InvProp</td>\n",
       "      <td>6592</td>\n",
       "    </tr>\n",
       "    <tr>\n",
       "      <th>2</th>\n",
       "      <td>AGGRAVATED ASSAULT</td>\n",
       "      <td>5649</td>\n",
       "    </tr>\n",
       "  </tbody>\n",
       "</table>\n",
       "</div>"
      ],
      "text/plain": [
       "      INCIDENT_TYPE_DESCRIPTION  Values\n",
       "119                         VAL   27363\n",
       "77                OTHER LARCENY   24443\n",
       "107              SIMPLE ASSAULT   17697\n",
       "70                    MedAssist   17128\n",
       "68                        MVAcc   13832\n",
       "120                   VANDALISM   13339\n",
       "53                       InvPer   12937\n",
       "58   LARCENY FROM MOTOR VEHICLE   12742\n",
       "28                 DRUG CHARGES   12042\n",
       "38                        FRAUD    8742\n",
       "92                     PropLost    8522\n",
       "116                       TOWED    7526\n",
       "98         RESIDENTIAL BURGLARY    6737\n",
       "54                      InvProp    6592\n",
       "2            AGGRAVATED ASSAULT    5649"
      ]
     },
     "execution_count": 53,
     "metadata": {},
     "output_type": "execute_result"
    }
   ],
   "source": [
    "df4 = df2.sort_values(['Values'], ascending = [False])\n",
    "df4.head(15)"
   ]
  },
  {
   "cell_type": "code",
   "execution_count": 54,
   "metadata": {
    "collapsed": false
   },
   "outputs": [
    {
     "data": {
      "image/png": "[encoded data removed]",
      "text/plain": [
       "<matplotlib.figure.Figure at 0x145b2252a90>"
      ]
     },
     "metadata": {},
     "output_type": "display_data"
    }
   ],
   "source": [
    "plt.xlabel('CRIMINAL HAPPENINGS', fontsize = 10)\n",
    "plt.title('BOSTON CRIMINAL DATA CHART', fontsize = 20)\n",
    "plt.ticklabel_format(style = 'sci', axis = 'x', scilimits=(0,0))\n",
    "plt.show()"
   ]
  },
  {
   "cell_type": "code",
   "execution_count": null,
   "metadata": {
    "collapsed": true
   },
   "outputs": [],
   "source": []
  },
  {
   "cell_type": "code",
   "execution_count": null,
   "metadata": {
    "collapsed": true
   },
   "outputs": [],
   "source": []
  }
 ],
 "metadata": {
  "kernelspec": {
   "display_name": "Python 3",
   "language": "python",
   "name": "python3"
  },
  "language_info": {
   "codemirror_mode": {
    "name": "ipython",
    "version": 3
   },
   "file_extension": ".py",
   "mimetype": "text/x-python",
   "name": "python",
   "nbconvert_exporter": "python",
   "pygments_lexer": "ipython3",
   "version": "3.6.0"
  }
 },
 "nbformat": 4,
 "nbformat_minor": 2
}
