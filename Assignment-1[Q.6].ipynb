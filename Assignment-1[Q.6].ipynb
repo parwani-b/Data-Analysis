{
 "cells": [
  {
   "cell_type": "markdown",
   "metadata": {},
   "source": [
    "# Question 6\n",
    "1.Under Inaugural Address package -For every president, find out how many unique words they used in speech\n",
    "2.Assume that President Bush means one person (technically it is incorrect but we will ignore it)"
   ]
  },
  {
   "cell_type": "code",
   "execution_count": 1,
   "metadata": {
    "collapsed": false
   },
   "outputs": [
    {
     "data": {
      "text/plain": [
       "['1789-Washington.txt',\n",
       " '1793-Washington.txt',\n",
       " '1797-Adams.txt',\n",
       " '1801-Jefferson.txt',\n",
       " '1805-Jefferson.txt',\n",
       " '1809-Madison.txt',\n",
       " '1813-Madison.txt',\n",
       " '1817-Monroe.txt',\n",
       " '1821-Monroe.txt',\n",
       " '1825-Adams.txt',\n",
       " '1829-Jackson.txt',\n",
       " '1833-Jackson.txt',\n",
       " '1837-VanBuren.txt',\n",
       " '1841-Harrison.txt',\n",
       " '1845-Polk.txt',\n",
       " '1849-Taylor.txt',\n",
       " '1853-Pierce.txt',\n",
       " '1857-Buchanan.txt',\n",
       " '1861-Lincoln.txt',\n",
       " '1865-Lincoln.txt',\n",
       " '1869-Grant.txt',\n",
       " '1873-Grant.txt',\n",
       " '1877-Hayes.txt',\n",
       " '1881-Garfield.txt',\n",
       " '1885-Cleveland.txt',\n",
       " '1889-Harrison.txt',\n",
       " '1893-Cleveland.txt',\n",
       " '1897-McKinley.txt',\n",
       " '1901-McKinley.txt',\n",
       " '1905-Roosevelt.txt',\n",
       " '1909-Taft.txt',\n",
       " '1913-Wilson.txt',\n",
       " '1917-Wilson.txt',\n",
       " '1921-Harding.txt',\n",
       " '1925-Coolidge.txt',\n",
       " '1929-Hoover.txt',\n",
       " '1933-Roosevelt.txt',\n",
       " '1937-Roosevelt.txt',\n",
       " '1941-Roosevelt.txt',\n",
       " '1945-Roosevelt.txt',\n",
       " '1949-Truman.txt',\n",
       " '1953-Eisenhower.txt',\n",
       " '1957-Eisenhower.txt',\n",
       " '1961-Kennedy.txt',\n",
       " '1965-Johnson.txt',\n",
       " '1969-Nixon.txt',\n",
       " '1973-Nixon.txt',\n",
       " '1977-Carter.txt',\n",
       " '1981-Reagan.txt',\n",
       " '1985-Reagan.txt',\n",
       " '1989-Bush.txt',\n",
       " '1993-Clinton.txt',\n",
       " '1997-Clinton.txt',\n",
       " '2001-Bush.txt',\n",
       " '2005-Bush.txt',\n",
       " '2009-Obama.txt']"
      ]
     },
     "execution_count": 1,
     "metadata": {},
     "output_type": "execute_result"
    }
   ],
   "source": [
    "import nltk\n",
    "nltk.corpus.inaugural.fileids()"
   ]
  },
  {
   "cell_type": "code",
   "execution_count": 2,
   "metadata": {
    "collapsed": false
   },
   "outputs": [
    {
     "name": "stdout",
     "output_type": "stream",
     "text": [
      " The total number of words that are unique in  1789-Washington are  604\n",
      " The total number of words that are unique in  1793-Washington are  95\n",
      " The total number of words that are unique in  1797-Adams are  803\n",
      " The total number of words that are unique in  1801-Jefferson are  687\n",
      " The total number of words that are unique in  1805-Jefferson are  783\n",
      " The total number of words that are unique in  1809-Madison are  526\n",
      " The total number of words that are unique in  1813-Madison are  524\n",
      " The total number of words that are unique in  1817-Monroe are  987\n",
      " The total number of words that are unique in  1821-Monroe are  1213\n",
      " The total number of words that are unique in  1825-Adams are  972\n",
      " The total number of words that are unique in  1829-Jackson are  504\n",
      " The total number of words that are unique in  1833-Jackson are  482\n",
      " The total number of words that are unique in  1837-VanBuren are  1267\n",
      " The total number of words that are unique in  1841-Harrison are  1813\n",
      " The total number of words that are unique in  1845-Polk are  1267\n",
      " The total number of words that are unique in  1849-Taylor are  488\n",
      " The total number of words that are unique in  1853-Pierce are  1124\n",
      " The total number of words that are unique in  1857-Buchanan are  902\n",
      " The total number of words that are unique in  1861-Lincoln are  1019\n",
      " The total number of words that are unique in  1865-Lincoln are  345\n",
      " The total number of words that are unique in  1869-Grant are  474\n",
      " The total number of words that are unique in  1873-Grant are  530\n",
      " The total number of words that are unique in  1877-Hayes are  808\n",
      " The total number of words that are unique in  1881-Garfield are  981\n",
      " The total number of words that are unique in  1885-Cleveland are  650\n",
      " The total number of words that are unique in  1889-Harrison are  1313\n",
      " The total number of words that are unique in  1893-Cleveland are  799\n",
      " The total number of words that are unique in  1897-McKinley are  1199\n",
      " The total number of words that are unique in  1901-McKinley are  828\n",
      " The total number of words that are unique in  1905-Roosevelt are  388\n",
      " The total number of words that are unique in  1909-Taft are  1385\n",
      " The total number of words that are unique in  1913-Wilson are  637\n",
      " The total number of words that are unique in  1917-Wilson are  529\n",
      " The total number of words that are unique in  1921-Harding are  1126\n",
      " The total number of words that are unique in  1925-Coolidge are  1164\n",
      " The total number of words that are unique in  1929-Hoover are  998\n",
      " The total number of words that are unique in  1933-Roosevelt are  715\n",
      " The total number of words that are unique in  1937-Roosevelt are  698\n",
      " The total number of words that are unique in  1941-Roosevelt are  502\n",
      " The total number of words that are unique in  1945-Roosevelt are  270\n",
      " The total number of words that are unique in  1949-Truman are  745\n",
      " The total number of words that are unique in  1953-Eisenhower are  864\n",
      " The total number of words that are unique in  1957-Eisenhower are  592\n",
      " The total number of words that are unique in  1961-Kennedy are  546\n",
      " The total number of words that are unique in  1965-Johnson are  538\n",
      " The total number of words that are unique in  1969-Nixon are  714\n",
      " The total number of words that are unique in  1973-Nixon are  516\n",
      " The total number of words that are unique in  1977-Carter are  504\n",
      " The total number of words that are unique in  1981-Reagan are  855\n",
      " The total number of words that are unique in  1985-Reagan are  876\n",
      " The total number of words that are unique in  1989-Bush are  754\n",
      " The total number of words that are unique in  1993-Clinton are  604\n",
      " The total number of words that are unique in  1997-Clinton are  727\n",
      " The total number of words that are unique in  2001-Bush are  593\n",
      " The total number of words that are unique in  2005-Bush are  742\n",
      " The total number of words that are unique in  2009-Obama are  900\n"
     ]
    }
   ],
   "source": [
    "from os.path import basename\n",
    "from os.path import splitext\n",
    "words = 0\n",
    "for presidential_speech in nltk.corpus.inaugural.fileids():\n",
    "    text = nltk.corpus.inaugural.words(presidential_speech)\n",
    "    base_name = basename(presidential_speech)\n",
    "    name = splitext(base_name)[0]\n",
    "    words = len(set(w.lower() for w in text))\n",
    "    print(\" The total number of words that are unique in \",name,\"are \",words)"
   ]
  },
  {
   "cell_type": "code",
   "execution_count": null,
   "metadata": {
    "collapsed": true
   },
   "outputs": [],
   "source": []
  }
 ],
 "metadata": {
  "kernelspec": {
   "display_name": "Python [conda root]",
   "language": "python",
   "name": "conda-root-py"
  },
  "language_info": {
   "codemirror_mode": {
    "name": "ipython",
    "version": 3
   },
   "file_extension": ".py",
   "mimetype": "text/x-python",
   "name": "python",
   "nbconvert_exporter": "python",
   "pygments_lexer": "ipython3",
   "version": "3.5.2"
  }
 },
 "nbformat": 4,
 "nbformat_minor": 1
}
