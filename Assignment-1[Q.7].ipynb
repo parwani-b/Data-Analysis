{
 "cells": [
  {
   "cell_type": "markdown",
   "metadata": {},
   "source": [
    "# Question 7\n",
    "1.Use Name corpus, calculate the probability of a name being of a male or female base on the last character(s) of name.\n",
    "2.Sample steps: -For char ‘a’: total_names = sum(names ending with ‘a’) male_names = sum(male names ending with ‘a’) female_names = sum(female names ending with ‘a’) \n",
    "3.Probability of name being male = 100 * male_names / total_names Do this for all characters. Output must come with proper title (e.g. [a] male: 25%, female: 60%)"
   ]
  },
  {
   "cell_type": "code",
   "execution_count": 1,
   "metadata": {
    "collapsed": false
   },
   "outputs": [
    {
     "data": {
      "text/plain": [
       "['female.txt', 'male.txt']"
      ]
     },
     "execution_count": 1,
     "metadata": {},
     "output_type": "execute_result"
    }
   ],
   "source": [
    "import nltk\n",
    "nltk.corpus.names.fileids()"
   ]
  },
  {
   "cell_type": "code",
   "execution_count": 2,
   "metadata": {
    "collapsed": true
   },
   "outputs": [],
   "source": [
    "female_names = nltk.corpus.names.words('female.txt') #get all the names from female.txt\n",
    "male_names = nltk.corpus.names.words('male.txt')#get all the names from male.txt\n",
    "type(female_names)\n",
    "all_names = []\n",
    "all_names.extend(female_names) \n",
    "all_names.extend(male_names)\n",
    "char = ['a', 'b','c','d','e','f','g','h','i','j','k','l','m','n','o','p','q','r','s','t','u','v','w','x','y','z']"
   ]
  },
  {
   "cell_type": "code",
   "execution_count": 3,
   "metadata": {
    "collapsed": false
   },
   "outputs": [
    {
     "name": "stdout",
     "output_type": "stream",
     "text": [
      "For letter [ a ]\n",
      "Probability of a name being of a male is: 1.609322974472808 %\n",
      "Probability of a name being of a female is: 98.3906770255272 %\n",
      "For letter [ b ]\n",
      "Probability of a name being of a male is: 70.0 %\n",
      "Probability of a name being of a female is: 30.0 %\n",
      "For letter [ c ]\n",
      "Probability of a name being of a male is: 100.0 %\n",
      "Probability of a name being of a female is: 0.0 %\n",
      "For letter [ d ]\n",
      "Probability of a name being of a male is: 85.39325842696628 %\n",
      "Probability of a name being of a female is: 14.606741573033707 %\n",
      "For letter [ e ]\n",
      "Probability of a name being of a male is: 24.63157894736842 %\n",
      "Probability of a name being of a female is: 75.36842105263158 %\n",
      "For letter [ f ]\n",
      "Probability of a name being of a male is: 92.5925925925926 %\n",
      "Probability of a name being of a female is: 7.4074074074074066 %\n",
      "For letter [ g ]\n",
      "Probability of a name being of a male is: 76.19047619047619 %\n",
      "Probability of a name being of a female is: 23.809523809523807 %\n",
      "For letter [ h ]\n",
      "Probability of a name being of a male is: 46.96969696969697 %\n",
      "Probability of a name being of a female is: 53.03030303030303 %\n",
      "For letter [ i ]\n",
      "Probability of a name being of a male is: 13.623978201634879 %\n",
      "Probability of a name being of a female is: 86.37602179836512 %\n",
      "For letter [ j ]\n",
      "Probability of a name being of a male is: 75.0 %\n",
      "Probability of a name being of a female is: 25.0 %\n",
      "For letter [ k ]\n",
      "Probability of a name being of a male is: 95.83333333333334 %\n",
      "Probability of a name being of a female is: 4.166666666666666 %\n",
      "For letter [ l ]\n",
      "Probability of a name being of a male is: 51.09289617486339 %\n",
      "Probability of a name being of a female is: 48.90710382513661 %\n",
      "For letter [ m ]\n",
      "Probability of a name being of a male is: 84.33734939759037 %\n",
      "Probability of a name being of a female is: 15.66265060240964 %\n",
      "For letter [ n ]\n",
      "Probability of a name being of a male is: 55.32407407407407 %\n",
      "Probability of a name being of a female is: 44.675925925925924 %\n",
      "For letter [ o ]\n",
      "Probability of a name being of a male is: 83.33333333333334 %\n",
      "Probability of a name being of a female is: 16.666666666666664 %\n",
      "For letter [ p ]\n",
      "Probability of a name being of a male is: 90.0 %\n",
      "Probability of a name being of a female is: 10.0 %\n",
      "For letter [ q ]\n",
      "Probability of a name being of a male is: 0 %\n",
      "Probability of a name being of a female is: 0 %\n",
      "For letter [ r ]\n",
      "Probability of a name being of a male is: 80.16877637130801 %\n",
      "Probability of a name being of a female is: 19.831223628691983 %\n",
      "For letter [ s ]\n",
      "Probability of a name being of a male is: 71.20743034055728 %\n",
      "Probability of a name being of a female is: 28.792569659442723 %\n",
      "For letter [ t ]\n",
      "Probability of a name being of a male is: 70.6896551724138 %\n",
      "Probability of a name being of a female is: 29.310344827586203 %\n",
      "For letter [ u ]\n",
      "Probability of a name being of a male is: 66.66666666666666 %\n",
      "Probability of a name being of a female is: 33.33333333333333 %\n",
      "For letter [ v ]\n",
      "Probability of a name being of a male is: 88.88888888888889 %\n",
      "Probability of a name being of a female is: 11.11111111111111 %\n",
      "For letter [ w ]\n",
      "Probability of a name being of a male is: 77.27272727272727 %\n",
      "Probability of a name being of a female is: 22.727272727272727 %\n",
      "For letter [ x ]\n",
      "Probability of a name being of a male is: 50.0 %\n",
      "Probability of a name being of a female is: 50.0 %\n",
      "For letter [ y ]\n",
      "Probability of a name being of a male is: 41.86633039092055 %\n",
      "Probability of a name being of a female is: 58.13366960907944 %\n",
      "For letter [ z ]\n",
      "Probability of a name being of a male is: 73.33333333333333 %\n",
      "Probability of a name being of a female is: 26.666666666666668 %\n"
     ]
    }
   ],
   "source": [
    "for every in char:\n",
    "    Overall_names = 0\n",
    "    males = 0\n",
    "    females = 0\n",
    "    prob_of_male_names = 0\n",
    "    prob_of_female_names = 0\n",
    "    for name in all_names:\n",
    "        if name.endswith(every):\n",
    "            Overall_names += 1\n",
    "    for name in male_names:\n",
    "        if name.endswith(every):\n",
    "             males += 1\n",
    "    for name in female_names:\n",
    "        if name.endswith(every):\n",
    "            females += 1\n",
    "    if Overall_names > 0:\n",
    "        prob_of_male_names = 100 * (males/Overall_names)\n",
    "        prob_of_female_names = 100 * (females/Overall_names)\n",
    "    print ('For letter [',every,']')\n",
    "    print('Probability of a name being of a male is:', prob_of_male_names , '%')\n",
    "    print('Probability of a name being of a female is:', prob_of_female_names , '%')"
   ]
  },
  {
   "cell_type": "code",
   "execution_count": null,
   "metadata": {
    "collapsed": true
   },
   "outputs": [],
   "source": []
  }
 ],
 "metadata": {
  "kernelspec": {
   "display_name": "Python [conda root]",
   "language": "python",
   "name": "conda-root-py"
  },
  "language_info": {
   "codemirror_mode": {
    "name": "ipython",
    "version": 3
   },
   "file_extension": ".py",
   "mimetype": "text/x-python",
   "name": "python",
   "nbconvert_exporter": "python",
   "pygments_lexer": "ipython3",
   "version": "3.5.2"
  }
 },
 "nbformat": 4,
 "nbformat_minor": 1
}
