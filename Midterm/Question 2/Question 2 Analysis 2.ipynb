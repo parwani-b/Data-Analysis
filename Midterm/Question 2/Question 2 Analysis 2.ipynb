{
 "cells": [
  {
   "cell_type": "code",
   "execution_count": 52,
   "metadata": {
    "collapsed": true
   },
   "outputs": [],
   "source": [
    "import json\n",
    "import glob\n",
    "import re\n",
    "import os"
   ]
  },
  {
   "cell_type": "code",
   "execution_count": 53,
   "metadata": {
    "collapsed": true
   },
   "outputs": [],
   "source": [
    "curr_dir = os.getcwd()\n",
    "data_path = '/Midterm/data/NYT data/Articles/Article 2014/*'\n",
    "lst = []\n",
    "for directory, sub_dir, filename in os.walk(curr_dir + data_path):\n",
    "    for f in filename:\n",
    "        l = os.path.join(directory, f)\n",
    "        lst.append(l)"
   ]
  },
  {
   "cell_type": "code",
   "execution_count": 54,
   "metadata": {
    "collapsed": false
   },
   "outputs": [
    {
     "name": "stdout",
     "output_type": "stream",
     "text": [
      "[]\n"
     ]
    }
   ],
   "source": [
    "keywords = []\n",
    "a = []\n",
    "\n",
    "for file in range(len(file_lst)):\n",
    "    files = json.loads(open(file_lst[file]).read()) \n",
    "    x = (files[\"response\"][\"docs\"])\n",
    "    \n",
    "    for y in range(len(x)):\n",
    "        p = (data[\"response\"][\"docs\"][y][\"keywords\"])\n",
    "        for r in range(len(p)):\n",
    "            s =(data[\"response\"][\"docs\"][y][\"keywords\"][r][\"value\"])\n",
    "            s = re.sub('[^A-Za-z]+', ' ', s)\n",
    "            s = s.lower()\n",
    "            s = s.split()\n",
    "        keywords.extend(s)\n",
    "print(keywords)"
   ]
  },
  {
   "cell_type": "code",
   "execution_count": 55,
   "metadata": {
    "collapsed": false
   },
   "outputs": [
    {
     "name": "stdout",
     "output_type": "stream",
     "text": [
      "[]\n"
     ]
    }
   ],
   "source": []
  }
 ],
 "metadata": {
  "kernelspec": {
   "display_name": "Python [conda root]",
   "language": "python",
   "name": "conda-root-py"
  },
  "language_info": {
   "codemirror_mode": {
    "name": "ipython",
    "version": 3
   },
   "file_extension": ".py",
   "mimetype": "text/x-python",
   "name": "python",
   "nbconvert_exporter": "python",
   "pygments_lexer": "ipython3",
   "version": "3.5.2"
  }
 },
 "nbformat": 4,
 "nbformat_minor": 1
}
