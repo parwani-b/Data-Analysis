{
 "cells": [
  {
   "cell_type": "code",
   "execution_count": 8,
   "metadata": {
    "collapsed": true
   },
   "outputs": [],
   "source": [
    "import json\n",
    "import glob\n",
    "import re\n",
    "import os\n",
    "import csv\n",
    "from collections import Counter"
   ]
  },
  {
   "cell_type": "code",
   "execution_count": 9,
   "metadata": {
    "collapsed": false
   },
   "outputs": [],
   "source": [
    "files = glob.glob(r'C:\\\\Users\\\\Pratik\\\\Desktop\\\\Northeastern\\\\New Data since Backup\\\\Python\\\\Data\\\\NYT data\\\\Archive 2016\\\\*.json')\n",
    "lst = []\n",
    "for f in files:     \n",
    "    with open(f, 'r') as file:   \n",
    "        json_file = json.load(file)\n",
    "        json_keys = json_file.keys()\n",
    "        for p in json_keys: \n",
    "            if p == 'response':\n",
    "                response_file = json_file['response']\n",
    "                response_keys = response_file.keys()\n",
    "                for q in response_keys:\n",
    "                    if q == 'docs':\n",
    "                        docs_file = json_file['response']['docs']\n",
    "                        i = 0\n",
    "                        for r in docs_file:\n",
    "                            section_name = json_file['response']['docs'][i]['section_name']\n",
    "                            pub_date = json_file['response']['docs'][i]['pub_date'][0:10]\n",
    "                            id = json_file['response']['docs'][i]['_id']\n",
    "                            if section_name is not None:\n",
    "                                c = section_name.replace('  ','')\n",
    "                                d = c.replace(' ','')\n",
    "                                g = d.replace(':','')\n",
    "                                e = g.replace('/','')\n",
    "                                if e != 'false':\n",
    "                                    lst.append(section_name)\n",
    "                                    sectionName = r\"Que 3 Archive data\\\\\" + e\n",
    "                                    presentSection=os.path.isdir(sectionName)\n",
    "                                    os.makedirs(sectionName, exist_ok=True)    \n",
    "                                    with open(sectionName+\"\\\\\" + pub_date + id + '.json', 'w') as outfile:\n",
    "                                        json.dump(json_file['response']['docs'][i], outfile)                       \n",
    "                                    i += 1"
   ]
  },
  {
   "cell_type": "code",
   "execution_count": 11,
   "metadata": {
    "collapsed": false
   },
   "outputs": [],
   "source": [
    "count = Counter(lst)\n",
    "dict_count= dict(count)\n",
    "dict_list = []\n",
    "temp = []\n",
    "for key, value in dict_count.items():\n",
    "    temp = [key,value]\n",
    "    dict_list.append(temp)"
   ]
  },
  {
   "cell_type": "code",
   "execution_count": 12,
   "metadata": {
    "collapsed": false
   },
   "outputs": [
    {
     "name": "stdout",
     "output_type": "stream",
     "text": [
      "U.S. 7698\n",
      "World 6874\n",
      "Opinion 6793\n",
      "Sports 6154\n",
      "Arts 5706\n",
      "Business Day 5011\n",
      "Paid Death Notices 4318\n",
      "N.Y. / Region 4183\n",
      "Fashion & Style 3697\n",
      "Books 1860\n",
      "T Magazine 1671\n",
      "Movies 1630\n",
      "Technology 1328\n",
      "Real Estate 1217\n",
      "Food 1207\n",
      "Theater 1020\n",
      "Health 971\n",
      "Science 907\n",
      "Magazine 849\n",
      "Travel 827\n",
      "The Upshot 726\n",
      "Education 681\n",
      "NYT Now 652\n",
      "Blogs 529\n",
      "Crosswords & Games 505\n",
      "Times Insider 434\n",
      "Corrections 398\n",
      "Your Money 342\n",
      "Multimedia/Photos 336\n",
      "The Learning Network 334\n",
      "Briefing 302\n",
      "Today’s Paper 283\n",
      "Well 280\n",
      "Style 201\n",
      "Universal 165\n",
      "Automobiles 110\n",
      "Job Market 101\n",
      "Obituaries 95\n",
      "Podcasts 60\n",
      "Watching 58\n",
      "Public Editor 43\n",
      "Sunday Review 28\n",
      "Giving 11\n",
      "Times Topics 10\n",
      "Books; Arts 7\n",
      "membercenter 3\n",
      "Admin 3\n",
      "International Home 3\n",
      "Great Homes & Destinations 2\n",
      "Afternoon Update 2\n",
      "Multimedia 1\n"
     ]
    }
   ],
   "source": [
    "for k,v in sorted(dict_count.items(), key = lambda y:y[1:] , reverse = True):\n",
    "    y =  print(k, v)"
   ]
  },
  {
   "cell_type": "code",
   "execution_count": null,
   "metadata": {
    "collapsed": true
   },
   "outputs": [],
   "source": []
  }
 ],
 "metadata": {
  "kernelspec": {
   "display_name": "Python 3",
   "language": "python",
   "name": "python3"
  },
  "language_info": {
   "codemirror_mode": {
    "name": "ipython",
    "version": 3
   },
   "file_extension": ".py",
   "mimetype": "text/x-python",
   "name": "python",
   "nbconvert_exporter": "python",
   "pygments_lexer": "ipython3",
   "version": "3.6.0"
  }
 },
 "nbformat": 4,
 "nbformat_minor": 2
}
