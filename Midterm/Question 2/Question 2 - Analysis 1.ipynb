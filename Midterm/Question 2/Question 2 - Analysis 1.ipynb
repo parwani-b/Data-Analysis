{
 "cells": [
  {
   "cell_type": "code",
   "execution_count": 56,
   "metadata": {
    "collapsed": true
   },
   "outputs": [],
   "source": [
    "import glob                              # imported all required libraries\n",
    "import os\n",
    "from collections import Counter\n",
    "import csv    \n",
    "import json\n",
    "files = glob.glob(r'C:\\\\Users\\\\bharat\\\\midterm\\\\data\\\\NYT data\\\\Article 2012\\\\*')   #Gathering the data in files"
   ]
  },
  {
   "cell_type": "code",
   "execution_count": 57,
   "metadata": {
    "collapsed": false
   },
   "outputs": [],
   "source": [
    "pqs = []\n",
    "for p in files:                          #Iterating through the data in the dataset\n",
    "    with open(p, 'r') as f:   \n",
    "        json_data = json.load(f)\n",
    "        json_keys = json_data.keys()\n",
    "        \n",
    "        for a in json_keys: \n",
    "            if a == 'response':\n",
    "                \n",
    "                response_file = json_data['response']\n",
    "                response_keys = response_file.keys()\n",
    "                \n",
    "                for b in response_keys:\n",
    "                    \n",
    "                    if b == 'docs':\n",
    "                        \n",
    "                        docs_file = json_data['response']['docs']\n",
    "                        j = 0\n",
    "                        for p in docs_file:\n",
    "                            section_name = json_data['response']['docs'][j]['section_name']\n",
    "                            \n",
    "                            pub_date = json_data['response']['docs'][j]['pub_date'][0:10]\n",
    "                            \n",
    "                            id = json_data['response']['docs'][j]['_id']\n",
    "                            \n",
    "                            if section_name is not None:\n",
    "                                \n",
    "                                m = section_name.replace('  ','')\n",
    "                                n = m.replace(' ','')\n",
    "                                o = n.replace(':','')\n",
    "                                d = o.replace('/','')\n",
    "                                if d != 'false':\n",
    "                                    \n",
    "                                    pqs.append(section_name)\n",
    "                                    sectionName = r\"C:\\\\Users\\\\bharat\\\\midterm\\\\data\\\\NYT data\\\\Section Files\\\\\" + d\n",
    "                                    presentSection=os.path.isdir(sectionName)\n",
    "                                    os.makedirs(sectionName, exist_ok=True)\n",
    "                                    \n",
    "                                    with open(sectionName+\"\\\\\" + pub_date + id + '.json', 'w') as outfile:\n",
    "                                        json.dump(json_data['response']['docs'][i], outfile)                       \n",
    "                                    j += 1"
   ]
  },
  {
   "cell_type": "code",
   "execution_count": 59,
   "metadata": {
    "collapsed": false
   },
   "outputs": [
    {
     "name": "stdout",
     "output_type": "stream",
     "text": [
      "Sports 444\n",
      "U.S. 339\n",
      "Business Day 338\n",
      "Opinion 309\n",
      "World 292\n",
      "Arts 251\n",
      "N.Y. / Region 248\n",
      "Technology 106\n",
      "Fashion & Style 90\n",
      "T:Style 79\n",
      "Style 73\n",
      "Science 69\n",
      "Magazine 68\n",
      "Books 65\n",
      "Paid Death Notices 64\n",
      "Business 62\n",
      "Health 55\n",
      "Autos 34\n",
      "Movies 32\n",
      "Home & Garden 23\n",
      "Multimedia 21\n",
      "Multimedia/Photos 21\n",
      "Real Estate 20\n",
      "Travel 19\n",
      "Theater 17\n",
      "Great Homes & Destinations 14\n",
      "Dining & Wine 14\n",
      "Sunday Review 10\n",
      "Crosswords/Games 10\n",
      "Your Money 10\n",
      "Corrections; New York and Region 9\n",
      "Crosswords & Games 8\n",
      "Food 8\n",
      "Corrections 7\n",
      "Booming 7\n",
      "Education 7\n",
      "T Magazine 7\n",
      "Job Market 5\n",
      "Automobiles 5\n",
      "New York and Region 4\n",
      "Obituaries 2\n",
      "Front Page; Washington; U.S. 1\n",
      "Theater; Arts 1\n",
      "Times Topics 1\n",
      "Movies; Arts 1\n",
      "Books; Arts 1\n",
      "Arts; Theater 1\n",
      "Arts; Education; Theater 1\n",
      "Open 1\n",
      "World; Obituaries 1\n"
     ]
    }
   ],
   "source": [
    "count = Counter(pqs)                         #Counter to check the published number of articles in 2012 for specific section\n",
    "dict_count= dict(count)\n",
    "dic_list = []\n",
    "temp = []\n",
    "for key, value in dict_count.items():\n",
    "    temp = [key,value]\n",
    "    dic_list.append(temp)\n",
    "for r,s in sorted(dict_count.items(), key =lambda z:z[1:] , reverse = True):\n",
    "    z = print(r, s)                                  # Printing the sections with their frequency"
   ]
  },
  {
   "cell_type": "code",
   "execution_count": null,
   "metadata": {
    "collapsed": true
   },
   "outputs": [],
   "source": []
  }
 ],
 "metadata": {
  "anaconda-cloud": {},
  "kernelspec": {
   "display_name": "Python [conda root]",
   "language": "python",
   "name": "conda-root-py"
  },
  "language_info": {
   "codemirror_mode": {
    "name": "ipython",
    "version": 3
   },
   "file_extension": ".py",
   "mimetype": "text/x-python",
   "name": "python",
   "nbconvert_exporter": "python",
   "pygments_lexer": "ipython3",
   "version": "3.5.2"
  }
 },
 "nbformat": 4,
 "nbformat_minor": 1
}
