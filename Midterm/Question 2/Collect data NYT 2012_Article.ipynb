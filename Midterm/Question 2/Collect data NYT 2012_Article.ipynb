{
 "cells": [
  {
   "cell_type": "markdown",
   "metadata": {},
   "source": [
    "# Collecting data from NYT using API key\n"
   ]
  },
  {
   "cell_type": "code",
   "execution_count": 1,
   "metadata": {
    "collapsed": true
   },
   "outputs": [],
   "source": [
    "import requests\n",
    "import urllib.parse\n",
    "import json\n",
    "api_key='3311a6b51fa149e6b602a6cf946ce343'\n",
    "date = 20160901\n",
    "page = 1"
   ]
  },
  {
   "cell_type": "code",
   "execution_count": 2,
   "metadata": {
    "collapsed": false
   },
   "outputs": [
    {
     "name": "stdout",
     "output_type": "stream",
     "text": [
      "2\n"
     ]
    }
   ],
   "source": [
    "url = \"http://api.nytimes.com/svc/search/v2/articlesearch.json?begin_date=\" + str(date) + \"&end_date=\" + str(date) + \"&page=\" + str(page) + \"&api-key=\" + str(api_key)\n",
    "response = requests.get(url).json()\n",
    "with open(str(date) + '_article_' + str(page)+ '.json', 'w') as fp:\n",
    "    json.dump(response, fp)\n",
    "    page += 1\n",
    "    date += 1\n",
    "    print(page)"
   ]
  },
  {
   "cell_type": "code",
   "execution_count": null,
   "metadata": {
    "collapsed": true
   },
   "outputs": [],
   "source": []
  }
 ],
 "metadata": {
  "kernelspec": {
   "display_name": "Python [conda root]",
   "language": "python",
   "name": "conda-root-py"
  },
  "language_info": {
   "codemirror_mode": {
    "name": "ipython",
    "version": 3
   },
   "file_extension": ".py",
   "mimetype": "text/x-python",
   "name": "python",
   "nbconvert_exporter": "python",
   "pygments_lexer": "ipython3",
   "version": "3.5.2"
  }
 },
 "nbformat": 4,
 "nbformat_minor": 1
}
