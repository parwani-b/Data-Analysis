{
 "cells": [
  {
   "cell_type": "markdown",
   "metadata": {},
   "source": [
    "# Midterm Question 1\n"
   ]
  },
  {
   "cell_type": "code",
   "execution_count": 46,
   "metadata": {
    "collapsed": true
   },
   "outputs": [],
   "source": [
    "import os                                                       #import required libraries\n",
    "import nltk\n",
    "from nltk.tokenize import word_tokenize\n",
    "from collections import Counter\n",
    "from email.parser import Parser\n"
   ]
  },
  {
   "cell_type": "code",
   "execution_count": 47,
   "metadata": {
    "collapsed": true
   },
   "outputs": [],
   "source": [
    "data_path = \"C:/Users/bharat/midterm/data/enron/maildir/lay-k\"                  #data_path has the\n",
    "                                                                                # path of enron dataset"
   ]
  },
  {
   "cell_type": "code",
   "execution_count": 48,
   "metadata": {
    "collapsed": false
   },
   "outputs": [],
   "source": [
    "def analyse_email(inputfile, to_email_list, from_email_list, email_body):  #Extracting the email content with  \n",
    "    with open(inputfile, \"r\") as f:                                        # analyse_email() function by opening the file\n",
    "        data = f.read()                                                    # and by parsing the email with Parser()\n",
    "    \n",
    "    email = Parser().parsestr(data)\n",
    "    \n",
    "    if email['to']:                                                 #Accessing the emails in the dataset that are sent to  \n",
    "        email_to = email['to']                                      # the employees\n",
    "        email_to = email_to.replace(\"\\n\",\"\")\n",
    "        email_to = email_to.replace(\"\\t\",\"\")                        #Removing all the empty spaces, tabs and the \n",
    "        email_to = email_to.replace(\" \",\"\")                         # \\n(new line chars) from the content\n",
    "    \n",
    "        email_to = email_to.split(\",\")                              #Splitting the list of emails that are sent by (,)\n",
    "    \n",
    "        for email_separated in email_to:                            #Iterating through the list of emails and appending it\n",
    "            to_email_list.append(email_separated)                   # to the to_email_list\n",
    "    \n",
    "    \n",
    "    from_email_list.append(email['from'])\n",
    "    \n",
    "    email_body.append(email.get_payload())\n",
    "    \n",
    "to_email_list = []\n",
    "from_email_list = []\n",
    "email_body = []\n",
    "\n",
    "\n"
   ]
  },
  {
   "cell_type": "markdown",
   "metadata": {},
   "source": [
    "# Analysis 1 [Most emails sent to]"
   ]
  },
  {
   "cell_type": "code",
   "execution_count": 50,
   "metadata": {
    "collapsed": false
   },
   "outputs": [
    {
     "name": "stdout",
     "output_type": "stream",
     "text": [
      "\n",
      " The below list displays  the top  30 most common email addresses of Enron employees and  executives whom  Kenneth lay, the CEO of Enron Corporation, sent the emails to -- \n",
      "\n",
      "\n",
      "[('kenneth.lay@enron.com', 2039), ('klay@enron.com', 1903), ('jeff.skilling@enron.com', 372), ('mark.koenig@enron.com', 313), ('greg.whalley@enron.com', 304), ('mark.frevert@enron.com', 304), ('steven.kean@enron.com', 278), ('mike.mcconnell@enron.com', 261), ('jeffrey.mcmahon@enron.com', 251), ('john.sherriff@enron.com', 244), ('cliff.baxter@enron.com', 241), ('andrew.fastow@enron.com', 173), ('cindy.olson@enron.com', 168), ('louise.kitchen@enron.com', 162), ('richard.causey@enron.com', 162), ('rick.buy@enron.com', 161), ('james.derrick@enron.com', 160), ('paula.rieker@enron.com', 160), ('stanley.horton@enron.com', 156), ('jim.fallon@enron.com', 154), ('rebecca.mcdonald@enron.com', 153), ('david.delainey@enron.com', 151), ('rosalee.fleming@enron.com', 150), ('ken.rice@enron.com', 145), ('kevin.hannon@enron.com', 145), ('joseph.sutton@enron.com', 143), ('david.haug@enron.com', 136), ('thomas.white@enron.com', 135), ('sanjay.bhatnagar@enron.com', 135), ('philippe.bibi@enron.com', 133)]\n"
     ]
    }
   ],
   "source": [
    "for directory, subdirectory, filenames in os.walk(data_path):\n",
    "    for filename in filenames:\n",
    "        analyse_email(os.path.join(directory, filename), to_email_list, from_email_list, email_body )\n",
    "        \n",
    "print(\"\\n The below list displays  the top  30 most common email addresses of Enron employees and  executives\"\n",
    "        + \" whom  Kenneth lay, the CEO of Enron Corporation, sent the emails to -- \\n\\n\")\n",
    "print(Counter(to_email_list).most_common(30))                       # Converting the to_email_list to Counter object to\n",
    "                                                                    #  count the 30 most common emails"
   ]
  },
  {
   "cell_type": "markdown",
   "metadata": {},
   "source": [
    "# Analysis 2 [Most emails received from]"
   ]
  },
  {
   "cell_type": "code",
   "execution_count": 52,
   "metadata": {
    "collapsed": false
   },
   "outputs": [
    {
     "name": "stdout",
     "output_type": "stream",
     "text": [
      "\n",
      " The below list displays the top 30 most common email addresses of Enron employees and executives  whom Kenneth lay, the CEO of Enron Corporation, received the emails from -- \n",
      "\n",
      "\n",
      "[('rosalee.fleming@enron.com', 856), ('brown_mary_jo@lilly.com', 82), ('leonardo.pacheco@enron.com', 78), ('savont@email.msn.com', 66), ('tori.wells@enron.com', 58), ('elizabeth.davis@compaq.com', 50), ('katherine.brown@enron.com', 47), ('no.address@enron.com', 47), ('mrslinda@lplpi.com', 40), ('lizard_ar@yahoo.com', 36), ('karen.denne@enron.com', 35), ('svarga@kudlow.com', 34), ('elizabeth.lay@enron.com', 33), ('rob.bradley@enron.com', 32), ('jeffrey.garten@yale.edu', 32), ('enron.announcements@enron.com', 30), ('joe.hillings@enron.com', 28), ('unwire-listadmin@client-mail.com', 27), ('shea_dugger@i2.com', 26), ('perfmgmt@enron.com', 25), ('sally.keepers@enron.com', 25), ('dbrock@howard.edu', 24), ('terrie.james@enron.com', 24), ('event@aei.org', 22), ('counciloftheamericas@as-coa.org', 22), ('mark.lay@enron.com', 21), ('barbara.sain@compaq.com', 21), ('barbette_watts@i2.com', 20), ('maureen.mcvicker@enron.com', 19), ('ksherwood@uschamber.com', 18)]\n"
     ]
    }
   ],
   "source": [
    "print(\"\\n The below list displays the top 30 most common email addresses of Enron employees and executives\"\n",
    "        + \"  whom Kenneth lay, the CEO of Enron Corporation, received the emails from -- \\n\\n\")\n",
    "print(Counter(from_email_list).most_common(30))"
   ]
  },
  {
   "cell_type": "markdown",
   "metadata": {},
   "source": [
    "# Analysis 3 [Top 100 Most common words in Kenneth lay's emails]"
   ]
  },
  {
   "cell_type": "code",
   "execution_count": 54,
   "metadata": {
    "collapsed": false
   },
   "outputs": [
    {
     "name": "stdout",
     "output_type": "stream",
     "text": [
      "\n",
      " Below are the top 100 most common words and characters that were used in Kenneth Lay emails --\n",
      "\n",
      "[(',', 82443), ('the', 62767), ('.', 59781), ('to', 46042), ('and', 37229), ('of', 35617), ('--', 27631), ('?', 26239), ('>', 22136), (':', 21640), ('in', 20276), ('@', 20084), ('a', 19961), ('you', 19228), ('Enron', 14536), ('for', 13984), ('I', 13970), ('that', 13212), ('is', 12865), (\"'s\", 10955), (\"''\", 10811), ('on', 10305), (')', 10030), ('(', 9479), ('with', 8545), ('this', 8455), ('are', 8411), ('will', 8396), ('be', 7882), ('<', 7817), ('-', 7340), ('have', 7287), ('The', 7138), ('from', 7082), ('at', 7075), ('as', 6988), ('your', 6966), ('their', 6465), ('by', 6293), (';', 5981), ('company', 5943), ('``', 5721), ('it', 5691), ('we', 5377), ('employees', 5234), ('$', 4969), ('or', 4927), ('who', 4874), ('an', 4830), ('our', 4504), ('not', 4454), ('energy', 4437), ('To', 4020), ('made', 3994), ('=20', 3921), ('would', 3843), ('has', 3792), ('California', 3734), ('out', 3638), ('Lay', 3468), ('consumers', 3441), ('Ken', 3402), ('were', 3242), ('http', 3213), ('Please', 3200), ('We', 3051), ('&', 3048), ('was', 2904), ('million', 2866), ('can', 2854), ('me', 2826), ('!', 2678), ('stock', 2670), ('Mr.', 2621), ('while', 2599), ('pay', 2491), ('...', 2444), ('there', 2438), ('my', 2423), ('up', 2403), ('funds', 2393), ('all', 2369), ('do', 2368), ('retirement', 2329), ('bills', 2298), ('bankruptcy', 2297), ('millions', 2294), ('if', 2273), ('more', 2269), ('donate', 2260), ('declared', 2250), ('any', 2236), (\"n't\", 2217), ('about', 2214), ('year', 2201), ('As', 2199), ('New', 2190), ('ENRON', 2182), ('over', 2156), ('help', 2154)]\n"
     ]
    }
   ],
   "source": [
    "with open(\"ken_lay_emails.txt\",\"r\") as fl:\n",
    "    data_ken_lay = fl.read()\n",
    "    \n",
    "words = word_tokenize(data_ken_lay)\n",
    "frequency = nltk.FreqDist(words)\n",
    "print(\"\\n Below are the top 100 most common words and characters that were used in Kenneth Lay emails --\\n\")\n",
    "print(frequency.most_common(100))"
   ]
  },
  {
   "cell_type": "code",
   "execution_count": null,
   "metadata": {
    "collapsed": true
   },
   "outputs": [],
   "source": [
    "\n",
    "    "
   ]
  }
 ],
 "metadata": {
  "anaconda-cloud": {},
  "kernelspec": {
   "display_name": "Python [conda root]",
   "language": "python",
   "name": "conda-root-py"
  },
  "language_info": {
   "codemirror_mode": {
    "name": "ipython",
    "version": 3
   },
   "file_extension": ".py",
   "mimetype": "text/x-python",
   "name": "python",
   "nbconvert_exporter": "python",
   "pygments_lexer": "ipython3",
   "version": "3.5.2"
  }
 },
 "nbformat": 4,
 "nbformat_minor": 1
}
